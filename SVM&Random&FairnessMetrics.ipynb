{
 "cells": [
  {
   "cell_type": "code",
   "execution_count": 1,
   "id": "0dc4b62e",
   "metadata": {
    "pycharm": {
     "name": "#%%\n"
    }
   },
   "outputs": [],
   "source": [
    "import pandas as pd\n",
    "import numpy as np\n",
    "import os\n",
    "from sklearn.svm import SVC\n",
    "from sklearn.ensemble import RandomForestClassifier\n",
    "from sklearn.naive_bayes import GaussianNB\n",
    "from sklearn.naive_bayes import MultinomialNB\n",
    "from sklearn.model_selection import GridSearchCV\n",
    "import matplotlib.pyplot as plt"
   ]
  },
  {
   "cell_type": "code",
   "execution_count": 2,
   "id": "abd99aaf",
   "metadata": {
    "pycharm": {
     "name": "#%%\n"
    }
   },
   "outputs": [],
   "source": [
    "# smote_path = './data/SMOTE/'\n",
    "smote_path = './data/newdata/'\n",
    "\n",
    "x_train_path = os.path.join(smote_path, 'x_train_new.csv')\n",
    "y_train_path = os.path.join(smote_path, 'y_train_new.csv')\n",
    "x_test_path = os.path.join(smote_path, 'x_test_new.csv')\n",
    "y_test_path = os.path.join(smote_path, 'y_test_new.csv')\n",
    "\n",
    "X_train = pd.read_csv(x_train_path).iloc[:, 1:]\n",
    "y_train = pd.read_csv(y_train_path).iloc[:, -1]\n",
    "X_test = pd.read_csv(x_test_path).iloc[:, 1:]\n",
    "y_test = pd.read_csv(y_test_path).iloc[:, -1]"
   ]
  },
  {
   "cell_type": "code",
   "execution_count": 3,
   "id": "d0649c1f",
   "metadata": {
    "pycharm": {
     "name": "#%%\n"
    }
   },
   "outputs": [
    {
     "data": {
      "text/html": [
       "<div>\n",
       "<style scoped>\n",
       "    .dataframe tbody tr th:only-of-type {\n",
       "        vertical-align: middle;\n",
       "    }\n",
       "\n",
       "    .dataframe tbody tr th {\n",
       "        vertical-align: top;\n",
       "    }\n",
       "\n",
       "    .dataframe thead th {\n",
       "        text-align: right;\n",
       "    }\n",
       "</style>\n",
       "<table border=\"1\" class=\"dataframe\">\n",
       "  <thead>\n",
       "    <tr style=\"text-align: right;\">\n",
       "      <th></th>\n",
       "      <th>review_stars_median</th>\n",
       "      <th>review_stars_std</th>\n",
       "      <th>weighted_useful_stars</th>\n",
       "      <th>weighted_funny_stars</th>\n",
       "      <th>weighted_cool_stars</th>\n",
       "      <th>tip_cnt</th>\n",
       "      <th>review_count</th>\n",
       "      <th>restaurants_take_out</th>\n",
       "      <th>business_parking</th>\n",
       "      <th>categories</th>\n",
       "    </tr>\n",
       "  </thead>\n",
       "  <tbody>\n",
       "    <tr>\n",
       "      <th>0</th>\n",
       "      <td>1.0</td>\n",
       "      <td>1.127063</td>\n",
       "      <td>1.334630</td>\n",
       "      <td>1.553191</td>\n",
       "      <td>2.191489</td>\n",
       "      <td>2.0</td>\n",
       "      <td>125.0</td>\n",
       "      <td>1.0</td>\n",
       "      <td>1.0</td>\n",
       "      <td>American</td>\n",
       "    </tr>\n",
       "    <tr>\n",
       "      <th>1</th>\n",
       "      <td>2.0</td>\n",
       "      <td>1.578261</td>\n",
       "      <td>3.904762</td>\n",
       "      <td>4.195122</td>\n",
       "      <td>2.322581</td>\n",
       "      <td>0.0</td>\n",
       "      <td>61.0</td>\n",
       "      <td>1.0</td>\n",
       "      <td>1.0</td>\n",
       "      <td>Chinese</td>\n",
       "    </tr>\n",
       "    <tr>\n",
       "      <th>2</th>\n",
       "      <td>5.0</td>\n",
       "      <td>0.965532</td>\n",
       "      <td>4.419417</td>\n",
       "      <td>4.027907</td>\n",
       "      <td>4.376471</td>\n",
       "      <td>0.0</td>\n",
       "      <td>683.0</td>\n",
       "      <td>1.0</td>\n",
       "      <td>1.0</td>\n",
       "      <td>Italian</td>\n",
       "    </tr>\n",
       "    <tr>\n",
       "      <th>3</th>\n",
       "      <td>3.5</td>\n",
       "      <td>1.211060</td>\n",
       "      <td>3.125000</td>\n",
       "      <td>3.333333</td>\n",
       "      <td>3.750000</td>\n",
       "      <td>0.0</td>\n",
       "      <td>60.0</td>\n",
       "      <td>1.0</td>\n",
       "      <td>1.0</td>\n",
       "      <td>Canadian</td>\n",
       "    </tr>\n",
       "    <tr>\n",
       "      <th>4</th>\n",
       "      <td>4.0</td>\n",
       "      <td>1.477790</td>\n",
       "      <td>4.250000</td>\n",
       "      <td>3.937500</td>\n",
       "      <td>3.661765</td>\n",
       "      <td>1.0</td>\n",
       "      <td>187.0</td>\n",
       "      <td>1.0</td>\n",
       "      <td>1.0</td>\n",
       "      <td>American</td>\n",
       "    </tr>\n",
       "  </tbody>\n",
       "</table>\n",
       "</div>"
      ],
      "text/plain": [
       "   review_stars_median  review_stars_std  weighted_useful_stars  \\\n",
       "0                  1.0          1.127063               1.334630   \n",
       "1                  2.0          1.578261               3.904762   \n",
       "2                  5.0          0.965532               4.419417   \n",
       "3                  3.5          1.211060               3.125000   \n",
       "4                  4.0          1.477790               4.250000   \n",
       "\n",
       "   weighted_funny_stars  weighted_cool_stars  tip_cnt  review_count  \\\n",
       "0              1.553191             2.191489      2.0         125.0   \n",
       "1              4.195122             2.322581      0.0          61.0   \n",
       "2              4.027907             4.376471      0.0         683.0   \n",
       "3              3.333333             3.750000      0.0          60.0   \n",
       "4              3.937500             3.661765      1.0         187.0   \n",
       "\n",
       "   restaurants_take_out  business_parking categories  \n",
       "0                   1.0               1.0   American  \n",
       "1                   1.0               1.0    Chinese  \n",
       "2                   1.0               1.0    Italian  \n",
       "3                   1.0               1.0   Canadian  \n",
       "4                   1.0               1.0   American  "
      ]
     },
     "execution_count": 3,
     "metadata": {},
     "output_type": "execute_result"
    }
   ],
   "source": [
    "X_train.head()"
   ]
  },
  {
   "cell_type": "code",
   "execution_count": 4,
   "id": "9b1be23e",
   "metadata": {
    "pycharm": {
     "name": "#%%\n"
    }
   },
   "outputs": [
    {
     "data": {
      "text/plain": [
       "0    0\n",
       "1    1\n",
       "2    1\n",
       "3    1\n",
       "4    1\n",
       "Name: stars, dtype: int64"
      ]
     },
     "execution_count": 4,
     "metadata": {},
     "output_type": "execute_result"
    }
   ],
   "source": [
    "y_train.head()"
   ]
  },
  {
   "cell_type": "code",
   "execution_count": 5,
   "id": "3a2848b1",
   "metadata": {
    "pycharm": {
     "name": "#%%\n"
    }
   },
   "outputs": [
    {
     "data": {
      "text/html": [
       "<div>\n",
       "<style scoped>\n",
       "    .dataframe tbody tr th:only-of-type {\n",
       "        vertical-align: middle;\n",
       "    }\n",
       "\n",
       "    .dataframe tbody tr th {\n",
       "        vertical-align: top;\n",
       "    }\n",
       "\n",
       "    .dataframe thead th {\n",
       "        text-align: right;\n",
       "    }\n",
       "</style>\n",
       "<table border=\"1\" class=\"dataframe\">\n",
       "  <thead>\n",
       "    <tr style=\"text-align: right;\">\n",
       "      <th></th>\n",
       "      <th>review_stars_median</th>\n",
       "      <th>review_stars_std</th>\n",
       "      <th>weighted_useful_stars</th>\n",
       "      <th>weighted_funny_stars</th>\n",
       "      <th>weighted_cool_stars</th>\n",
       "      <th>tip_cnt</th>\n",
       "      <th>categories</th>\n",
       "      <th>review_count</th>\n",
       "      <th>restaurants_take_out</th>\n",
       "      <th>business_parking</th>\n",
       "    </tr>\n",
       "  </thead>\n",
       "  <tbody>\n",
       "    <tr>\n",
       "      <th>0</th>\n",
       "      <td>4.0</td>\n",
       "      <td>1.342077</td>\n",
       "      <td>2.949153</td>\n",
       "      <td>3.368421</td>\n",
       "      <td>3.368421</td>\n",
       "      <td>1.0</td>\n",
       "      <td>Japanese</td>\n",
       "      <td>223.0</td>\n",
       "      <td>1.0</td>\n",
       "      <td>1.0</td>\n",
       "    </tr>\n",
       "    <tr>\n",
       "      <th>1</th>\n",
       "      <td>4.0</td>\n",
       "      <td>1.928673</td>\n",
       "      <td>1.490385</td>\n",
       "      <td>1.484375</td>\n",
       "      <td>2.291667</td>\n",
       "      <td>0.0</td>\n",
       "      <td>Italian</td>\n",
       "      <td>244.0</td>\n",
       "      <td>1.0</td>\n",
       "      <td>1.0</td>\n",
       "    </tr>\n",
       "    <tr>\n",
       "      <th>2</th>\n",
       "      <td>4.5</td>\n",
       "      <td>1.880925</td>\n",
       "      <td>3.257937</td>\n",
       "      <td>2.068627</td>\n",
       "      <td>3.492424</td>\n",
       "      <td>0.0</td>\n",
       "      <td>Chinese</td>\n",
       "      <td>136.0</td>\n",
       "      <td>1.0</td>\n",
       "      <td>1.0</td>\n",
       "    </tr>\n",
       "    <tr>\n",
       "      <th>3</th>\n",
       "      <td>4.0</td>\n",
       "      <td>1.398051</td>\n",
       "      <td>3.183673</td>\n",
       "      <td>2.842105</td>\n",
       "      <td>3.538462</td>\n",
       "      <td>4.0</td>\n",
       "      <td>Indian</td>\n",
       "      <td>415.0</td>\n",
       "      <td>1.0</td>\n",
       "      <td>1.0</td>\n",
       "    </tr>\n",
       "    <tr>\n",
       "      <th>4</th>\n",
       "      <td>1.0</td>\n",
       "      <td>1.388730</td>\n",
       "      <td>1.085308</td>\n",
       "      <td>1.162162</td>\n",
       "      <td>1.439024</td>\n",
       "      <td>1.0</td>\n",
       "      <td>Italian</td>\n",
       "      <td>125.0</td>\n",
       "      <td>1.0</td>\n",
       "      <td>1.0</td>\n",
       "    </tr>\n",
       "  </tbody>\n",
       "</table>\n",
       "</div>"
      ],
      "text/plain": [
       "   review_stars_median  review_stars_std  weighted_useful_stars  \\\n",
       "0                  4.0          1.342077               2.949153   \n",
       "1                  4.0          1.928673               1.490385   \n",
       "2                  4.5          1.880925               3.257937   \n",
       "3                  4.0          1.398051               3.183673   \n",
       "4                  1.0          1.388730               1.085308   \n",
       "\n",
       "   weighted_funny_stars  weighted_cool_stars  tip_cnt categories  \\\n",
       "0              3.368421             3.368421      1.0   Japanese   \n",
       "1              1.484375             2.291667      0.0    Italian   \n",
       "2              2.068627             3.492424      0.0    Chinese   \n",
       "3              2.842105             3.538462      4.0     Indian   \n",
       "4              1.162162             1.439024      1.0    Italian   \n",
       "\n",
       "   review_count  restaurants_take_out  business_parking  \n",
       "0         223.0                   1.0               1.0  \n",
       "1         244.0                   1.0               1.0  \n",
       "2         136.0                   1.0               1.0  \n",
       "3         415.0                   1.0               1.0  \n",
       "4         125.0                   1.0               1.0  "
      ]
     },
     "execution_count": 5,
     "metadata": {},
     "output_type": "execute_result"
    }
   ],
   "source": [
    "X_test.head()"
   ]
  },
  {
   "cell_type": "code",
   "execution_count": 6,
   "id": "b3f6fdfc",
   "metadata": {
    "pycharm": {
     "name": "#%%\n"
    }
   },
   "outputs": [
    {
     "data": {
      "text/plain": [
       "0    1\n",
       "1    1\n",
       "2    1\n",
       "3    1\n",
       "4    0\n",
       "Name: 0, dtype: int64"
      ]
     },
     "execution_count": 6,
     "metadata": {},
     "output_type": "execute_result"
    }
   ],
   "source": [
    "y_test.head()"
   ]
  },
  {
   "cell_type": "code",
   "execution_count": 7,
   "id": "22d19e4f",
   "metadata": {
    "pycharm": {
     "name": "#%%\n"
    }
   },
   "outputs": [
    {
     "name": "stdout",
     "output_type": "stream",
     "text": [
      "Categories: ['Japanese', 'Italian', 'Chinese', 'Indian', 'Korean', 'American', 'Vietnamese', 'Canadian', 'Greek', 'Mexican', 'Thai', 'Pakistani', 'French', 'Spanish']\n",
      "\n",
      "Number of categories: 14\n"
     ]
    }
   ],
   "source": [
    "cate_types = list(X_test['categories'].unique())\n",
    "cate_types_train = list(X_train['categories'].unique())\n",
    "\n",
    "assert sorted(cate_types) == sorted(cate_types_train)\n",
    "\n",
    "print(f'Categories: {cate_types}\\n')\n",
    "print(f'Number of categories: {len(cate_types)}')"
   ]
  },
  {
   "cell_type": "code",
   "execution_count": 8,
   "id": "0b23a1d0",
   "metadata": {
    "pycharm": {
     "name": "#%%\n"
    }
   },
   "outputs": [],
   "source": [
    "def make_grid_search(clf, parameters, X_train, y_train):\n",
    "    grid_clf = GridSearchCV(clf, parameters)\n",
    "    grid_clf.fit(X_train.drop(columns=['categories']), y_train)\n",
    "    print(grid_clf.best_params_)\n",
    "    return grid_clf.best_estimator_\n",
    "\n",
    "\n",
    "def print_sum_info(clf, cate_types, X_test, y_test):\n",
    "#     clf = grid_clf.best_estimator_\n",
    "    total_score = clf.score(X_test.drop(columns=['categories']), y_test)\n",
    "    print(f'Total score: {total_score}\\n')\n",
    "    for cate in sorted(cate_types):\n",
    "        score = clf.score(\n",
    "            X_test[X_test['categories']==cate].drop(columns=['categories']), y_test[X_test['categories']==cate])\n",
    "        print(f'{cate}: {score}')      "
   ]
  },
  {
   "cell_type": "code",
   "execution_count": 9,
   "id": "5ec4bb92",
   "metadata": {
    "pycharm": {
     "name": "#%%\n"
    }
   },
   "outputs": [],
   "source": [
    "# svm_clf = SVC(gamma='auto', decision_function_shape='ovr').fit(X_train.drop(columns=['categories']), y_train)\n",
    "# svm_clf.score(X_test.drop(columns=['categories']), y_test)\n",
    "\n",
    "# for cate in sorted(cate_types):\n",
    "#     score = svm_clf.score(X_test[X_test['categories']==cate].drop(columns=['categories']), \n",
    "#                              y_test[X_test['categories']==cate])\n",
    "#     print(f'\\'{cate}\\': {score}')"
   ]
  },
  {
   "cell_type": "code",
   "execution_count": null,
   "id": "ccae9310",
   "metadata": {
    "pycharm": {
     "name": "#%%\n"
    }
   },
   "outputs": [],
   "source": [
    "# Best 100.\n",
    "# svc_params = {'C':[1e-1, 1, 10, 100]}\n",
    "svc_params = {'C':[80, 100, 120, 200]}\n",
    "svc_clf = make_grid_search(\n",
    "    clf=SVC(decision_function_shape='ovr'), parameters=svc_params, X_train=X_train, y_train=y_train)\n",
    "\n",
    "print_sum_info(clf=svc_clf, cate_types=cate_types, X_test=X_test, y_test=y_test)"
   ]
  },
  {
   "cell_type": "code",
   "execution_count": null,
   "id": "aaadfd72",
   "metadata": {
    "pycharm": {
     "name": "#%%\n"
    }
   },
   "outputs": [],
   "source": [
    "# print_score(cate_types=cate_types, cls=svm_clf, X_test=X_test, y_test=y_test)"
   ]
  },
  {
   "cell_type": "code",
   "execution_count": null,
   "id": "53496344",
   "metadata": {
    "pycharm": {
     "name": "#%%\n"
    }
   },
   "outputs": [],
   "source": [
    "# forest_clf = RandomForestClassifier(max_depth=100, oob_score=True)\n",
    "# forest_clf.fit(X_train.drop(columns=['categories']), y_train)"
   ]
  },
  {
   "cell_type": "code",
   "execution_count": 15,
   "id": "01fa8107",
   "metadata": {
    "pycharm": {
     "name": "#%%\n"
    }
   },
   "outputs": [
    {
     "name": "stdout",
     "output_type": "stream",
     "text": [
      "{'min_samples_leaf': 2, 'min_samples_split': 2}\n",
      "Total score: 0.8121250394695295\n",
      "\n",
      "American: 0.8172348484848485\n",
      "Canadian: 0.9072164948453608\n",
      "Chinese: 0.8275434243176178\n",
      "French: 0.8490566037735849\n",
      "Greek: 0.7913669064748201\n",
      "Indian: 0.8219895287958116\n",
      "Italian: 0.7991803278688525\n",
      "Japanese: 0.842756183745583\n",
      "Korean: 0.9047619047619048\n",
      "Mexican: 0.7299528301886793\n",
      "Pakistani: 0.859375\n",
      "Spanish: 0.7169811320754716\n",
      "Thai: 0.8616600790513834\n",
      "Vietnamese: 0.8227272727272728\n"
     ]
    }
   ],
   "source": [
    "# forest_params = {'min_samples_split': range(2, 8, 2), 'min_samples_leaf': range(2, 8, 2)}\n",
    "forest_params = {'min_samples_split': [2], 'min_samples_leaf': [2]}\n",
    "\n",
    "forest_clf = make_grid_search(\n",
    "    clf=RandomForestClassifier(oob_score=True), parameters=forest_params, X_train=X_train, y_train=y_train)\n",
    "\n",
    "\n",
    "print_sum_info(clf=forest_clf, cate_types=cate_types, X_test=X_test, y_test=y_test)"
   ]
  },
  {
   "cell_type": "code",
   "execution_count": null,
   "id": "335f957e",
   "metadata": {
    "pycharm": {
     "name": "#%%\n"
    }
   },
   "outputs": [],
   "source": [
    "# forest_clf.score(X_test.drop(columns=['categories']), y_test)\n",
    "# for cate in sorted(cate_types):\n",
    "#     score = forest_clf.score(X_test[X_test['categories']==cate].drop(columns=['categories']), \n",
    "#                              y_test[X_test['categories']==cate])\n",
    "#     print(f'{cate} : {score}')"
   ]
  },
  {
   "cell_type": "code",
   "execution_count": null,
   "id": "0c6a6347",
   "metadata": {
    "pycharm": {
     "name": "#%%\n"
    }
   },
   "outputs": [],
   "source": [
    "# gnb_clf = GaussianNB().fit(X_train.drop(columns=['categories']), y_train)\n",
    "# gnb_clf.score(X_test.drop(columns=['categories']), y_test)\n",
    "# for cate in sorted(cate_types):\n",
    "#     score = gnb_clf.score(X_test[X_test['categories']==cate].drop(columns=['categories']), \n",
    "#                              y_test[X_test['categories']==cate])\n",
    "#     print(f'{cate} : {score}')"
   ]
  },
  {
   "cell_type": "code",
   "execution_count": null,
   "id": "27cb7f04",
   "metadata": {
    "pycharm": {
     "name": "#%%\n"
    }
   },
   "outputs": [],
   "source": [
    "# mnb_clf = MultinomialNB().fit(X_train.drop(columns=['categories']), y_train)\n",
    "# mnb_clf.score(X_test.drop(columns=['categories']), y_test)\n",
    "# for cate in sorted(cate_types):\n",
    "#     score = mnb_clf.score(X_test[X_test['categories']==cate].drop(columns=['categories']), \n",
    "#                              y_test[X_test['categories']==cate])\n",
    "#     print(f'{cate} : {score}')"
   ]
  },
  {
   "cell_type": "code",
   "execution_count": 16,
   "id": "ab5f3195",
   "metadata": {
    "pycharm": {
     "name": "#%%\n"
    }
   },
   "outputs": [],
   "source": [
    "def stat_parity(preds, sens):\n",
    "    \"\"\"\n",
    "    Only concentrate on outcomes equal to 2 (high rating)\n",
    "    \"\"\"\n",
    "    stat_dict = {}\n",
    "    for cate in np.unique(sens):\n",
    "        cate_preds = preds[sens==cate]\n",
    "        non_cate_preds = preds[sens!=cate]\n",
    "        cate_preds2_rate = cate_preds[cate_preds==2].size / cate_preds.size\n",
    "        non_cate_preds2_rate = non_cate_preds[non_cate_preds==2].size / non_cate_preds.size\n",
    "        stat_dict[cate] = cate_preds2_rate - non_cate_preds2_rate\n",
    "    return stat_dict\n",
    "\n",
    "\n",
    "def cal_stat_parity(cls, X_test):\n",
    "    return stat_parity(cls.predict(X_test.drop(columns=['categories'])), X_test['categories'].to_numpy())"
   ]
  },
  {
   "cell_type": "code",
   "execution_count": 17,
   "id": "3bd44a33",
   "metadata": {
    "pycharm": {
     "name": "#%%\n"
    }
   },
   "outputs": [],
   "source": [
    "def eq_oppo(preds, sens, labels):\n",
    "    eq_dict = {}\n",
    "    for cate in np.unique(sens):\n",
    "        true2_preds = preds[labels==2]\n",
    "        true2_sens = sens[labels==2]\n",
    "        cate_true2_preds = true2_preds[true2_sens==cate]\n",
    "        non_cate_true2_preds = true2_preds[true2_sens!=cate]\n",
    "        cate_true2_preds2_rate = cate_true2_preds[cate_true2_preds==2].size / cate_true2_preds.size\n",
    "        non_cate_true2_preds2_rate = non_cate_true2_preds[non_cate_true2_preds==2].size / non_cate_true2_preds.size\n",
    "        eq_dict[cate] = cate_true2_preds2_rate - non_cate_true2_preds2_rate\n",
    "    return eq_dict\n",
    "\n",
    "\n",
    "def cal_eq_oppo(cls, y_test, X_test):\n",
    "    return eq_oppo(cls.predict(X_test.drop(columns=['categories'])), X_test['categories'].to_numpy(), y_test.to_numpy())"
   ]
  },
  {
   "cell_type": "code",
   "execution_count": 18,
   "id": "6bd5afa4",
   "metadata": {
    "pycharm": {
     "name": "#%%\n"
    }
   },
   "outputs": [
    {
     "name": "stdout",
     "output_type": "stream",
     "text": [
      "American -0.08075648521434453\n",
      "Canadian 0.30597302504816953\n",
      "Chinese 0.3076964594127806\n",
      "French 0.18503159557661925\n",
      "Greek -0.08358253588516745\n",
      "Indian -0.007168458781361964\n",
      "Italian -0.06708765112262521\n",
      "Japanese -0.050969242698371664\n",
      "Korean 0.3612750885478158\n",
      "Mexican -0.13148022876821847\n",
      "Pakistani 0.13921113689095127\n",
      "Spanish -0.11384976525821594\n",
      "Thai 0.08992665923756704\n",
      "Vietnamese 0.010880902043692742\n"
     ]
    }
   ],
   "source": [
    "eq_dict = cal_eq_oppo(forest_clf, y_test, X_test)\n",
    "eq_lst = []\n",
    "for key, val in eq_dict.items():\n",
    "    eq_lst.append(val)\n",
    "    print(key, val)"
   ]
  },
  {
   "cell_type": "code",
   "execution_count": 19,
   "id": "d39b9053",
   "metadata": {
    "pycharm": {
     "name": "#%%\n"
    }
   },
   "outputs": [
    {
     "name": "stdout",
     "output_type": "stream",
     "text": [
      "American -0.02891913569613712\n",
      "Canadian -0.047683511601037384\n",
      "Chinese 0.029195379803427984\n",
      "French 0.09438506561966044\n",
      "Greek 0.011824341979201139\n",
      "Indian 0.022099814797926887\n",
      "Italian -0.008437657901256973\n",
      "Japanese -0.0043569247658581806\n",
      "Korean 0.06314534865182538\n",
      "Mexican -0.000409704978022965\n",
      "Pakistani -0.02090809409888357\n",
      "Spanish 0.04602079346817145\n",
      "Thai 0.020191187090224008\n",
      "Vietnamese 0.010049959853688992\n"
     ]
    }
   ],
   "source": [
    "stat_dict = cal_stat_parity(forest_clf, X_test)\n",
    "stat_lst = []\n",
    "for key, val in stat_dict.items():\n",
    "    stat_lst.append(val)\n",
    "    print(key, val)"
   ]
  },
  {
   "cell_type": "code",
   "execution_count": 22,
   "id": "63e82aa2",
   "metadata": {
    "pycharm": {
     "name": "#%%\n"
    }
   },
   "outputs": [
    {
     "name": "stdout",
     "output_type": "stream",
     "text": [
      "American : 0.8172348484848485\n",
      "Canadian : 0.9072164948453608\n",
      "Chinese : 0.8275434243176178\n",
      "French : 0.8490566037735849\n",
      "Greek : 0.7913669064748201\n",
      "Indian : 0.8219895287958116\n",
      "Italian : 0.7991803278688525\n",
      "Japanese : 0.842756183745583\n",
      "Korean : 0.9047619047619048\n",
      "Mexican : 0.7299528301886793\n",
      "Pakistani : 0.859375\n",
      "Spanish : 0.7169811320754716\n",
      "Thai : 0.8616600790513834\n",
      "Vietnamese : 0.8227272727272728\n"
     ]
    }
   ],
   "source": [
    "score_lst = []\n",
    "for cate in sorted(cate_types):\n",
    "    score = forest_clf.score(X_test[X_test['categories']==cate].drop(columns=['categories']), \n",
    "                             y_test[X_test['categories']==cate])\n",
    "    score_lst.append(score)\n",
    "    print(f'{cate} : {score}')"
   ]
  },
  {
   "cell_type": "code",
   "execution_count": null,
   "id": "0fe3b5c6",
   "metadata": {
    "pycharm": {
     "name": "#%%\n"
    }
   },
   "outputs": [],
   "source": [
    "fig, ax = plt.subplots()\n",
    "ax.set_title(\"Fairness metrics for RandomForestClassifier\")\n",
    "# ax.bar(cate_types, stat_lst, color=\"red\", marker=\"o\")\n",
    "# ax.bar(cate_types, stat_lst, color='red')\n",
    "# ax.bar(cate_types, eq_lst, color='blue')\n",
    "width=0.4\n",
    "df1 = pd.DataFrame(stat_lst, index=cate_types)\n",
    "df2 = pd.DataFrame(eq_lst, index=cate_types)\n",
    "\n",
    "# ax.set_xlabel(\"Categories\", fontsize=14)\n",
    "ax.set_ylabel(\"Statistical parity\", color=\"green\", fontsize=14)\n",
    "# twin object for two different y-axis on the sample plot\n",
    "ax2=ax.twinx()\n",
    "ax2.set_ylabel(\"Equalized opportunity\",color=\"blue\",fontsize=14)\n",
    "\n",
    "df1.plot(kind='bar', color='green', ax=ax, width=width, position=1, legend=False)\n",
    "df2.plot(kind='bar', color='blue', ax=ax2, width=width, position=0, legend=False)\n",
    "# ax2.bar(eq_lst, color=\"blue\", marker=\"o\")\n",
    "\n",
    "# plt.savefig(\"fairness.png\")\n",
    "plt.show()"
   ]
  },
  {
   "cell_type": "code",
   "execution_count": null,
   "id": "a0788f43",
   "metadata": {
    "pycharm": {
     "name": "#%%\n"
    }
   },
   "outputs": [],
   "source": [
    "fig, ax = plt.subplots()\n",
    "# ax.set_title(\"Score vs. Statistical parity for RandomForestClassifier\")\n",
    "# ax.bar(cate_types, stat_lst, color=\"red\", marker=\"o\")\n",
    "# ax.bar(cate_types, stat_lst, color='red')\n",
    "# ax.bar(cate_types, eq_lst, color='blue')\n",
    "width=0.4\n",
    "df1 = pd.DataFrame(score_lst, index=cate_types)\n",
    "df2 = pd.DataFrame(stat_lst, index=cate_types)\n",
    "\n",
    "# ax.set_xlabel(\"Categories\", fontsize=14)\n",
    "ax.set_ylabel(\"Score\", color=\"C6\", fontsize=14)\n",
    "ax2=ax.twinx()\n",
    "ax2.set_ylabel(\"Statistical parity\",color=\"green\",fontsize=14)\n",
    "\n",
    "# twin object for two different y-axis on the sample plot\n",
    "\n",
    "df1.plot(kind='bar', color='C6', ax=ax, ylim=[0.7, 0.95], width=width, position=1, legend=False)\n",
    "df2.plot(kind='bar', color='green', ax=ax2, width=width, position=0, legend=False)\n",
    "\n",
    "# ax2.bar(eq_lst, color=\"blue\", marker=\"o\")\n",
    "\n",
    "# plt.savefig(\"fairness.png\")\n",
    "plt.show()"
   ]
  },
  {
   "cell_type": "code",
   "execution_count": null,
   "id": "7b8a977a",
   "metadata": {
    "pycharm": {
     "name": "#%%\n"
    }
   },
   "outputs": [],
   "source": [
    "fig, ax = plt.subplots()\n",
    "# ax.set_title(\"Score vs. Statistical parity for RandomForestClassifier\")\n",
    "# ax.bar(cate_types, stat_lst, color=\"red\", marker=\"o\")\n",
    "# ax.bar(cate_types, stat_lst, color='red')\n",
    "# ax.bar(cate_types, eq_lst, color='blue')\n",
    "width=0.4\n",
    "df1 = pd.DataFrame(score_lst, index=cate_types)\n",
    "df2 = pd.DataFrame(eq_lst, index=cate_types)\n",
    "\n",
    "# ax.set_xlabel(\"Categories\", fontsize=14)\n",
    "ax.set_ylabel(\"Score\", color=\"C6\", fontsize=14)\n",
    "ax2=ax.twinx()\n",
    "ax2.set_ylabel(\"Equalized opportunity\",color=\"blue\",fontsize=14)\n",
    "\n",
    "# twin object for two different y-axis on the sample plot\n",
    "\n",
    "df1.plot(kind='bar', color='C6', ax=ax, ylim=[0.7, 0.95], width=width, position=1, legend=False)\n",
    "df2.plot(kind='bar', color='blue', ax=ax2, width=width, position=0, legend=False)\n",
    "\n",
    "# ax2.bar(eq_lst, color=\"blue\", marker=\"o\")\n",
    "\n",
    "# plt.savefig(\"fairness.png\")\n",
    "plt.show()"
   ]
  },
  {
   "cell_type": "code",
   "execution_count": 43,
   "id": "df53c34a",
   "metadata": {},
   "outputs": [
    {
     "data": {
      "image/png": "[encoded data removed]",
      "text/plain": [
       "<Figure size 432x288 with 2 Axes>"
      ]
     },
     "metadata": {
      "needs_background": "light"
     },
     "output_type": "display_data"
    }
   ],
   "source": [
    "fig, ax = plt.subplots()\n",
    "# ax.set_title(\"Fairness metrics for RandomForestClassifier\")\n",
    "# ax.bar(cate_types, stat_lst, color=\"red\", marker=\"o\")\n",
    "# ax.bar(cate_types, stat_lst, color='red')\n",
    "# ax.bar(cate_types, eq_lst, color='blue')\n",
    "width=0.4\n",
    "df1 = pd.DataFrame(stat_lst, index=sorted(cate_types))\n",
    "df2 = pd.DataFrame(eq_lst, index=sorted(cate_types))\n",
    "\n",
    "# ax.set_xlabel(\"Categories\", fontsize=14)\n",
    "ax.set_ylabel(\"Statistical parity\", color=\"green\", fontsize=16)\n",
    "# twin object for two different y-axis on the sample plot\n",
    "ax2=ax.twinx()\n",
    "ax2.set_ylabel(\"Equalized opportunity\",color=\"blue\",fontsize=16)\n",
    "\n",
    "df1.plot(kind='bar', color='green', ax=ax, width=width, position=1, legend=False, fontsize=16)\n",
    "df2.plot(kind='bar', color='blue', ax=ax2, width=width, position=0, legend=False, fontsize=16)\n",
    "# ax2.bar(eq_lst, color=\"blue\", marker=\"o\")\n",
    "\n",
    "plt.savefig(\"s_vs_e.svg\", facecolor='w')\n",
    "plt.show()"
   ]
  },
  {
   "cell_type": "code",
   "execution_count": 44,
   "id": "f112dfd2",
   "metadata": {},
   "outputs": [
    {
     "data": {
      "image/png": "[encoded data removed]",
      "text/plain": [
       "<Figure size 432x288 with 2 Axes>"
      ]
     },
     "metadata": {
      "needs_background": "light"
     },
     "output_type": "display_data"
    }
   ],
   "source": [
    "fig, ax = plt.subplots()\n",
    "# ax.set_title(\"Score vs. Statistical parity for RandomForestClassifier\")\n",
    "# ax.bar(cate_types, stat_lst, color=\"red\", marker=\"o\")\n",
    "# ax.bar(cate_types, stat_lst, color='red')\n",
    "# ax.bar(cate_types, eq_lst, color='blue')\n",
    "width=0.4\n",
    "df1 = pd.DataFrame(score_lst, index=sorted(cate_types))\n",
    "df2 = pd.DataFrame(stat_lst, index=sorted(cate_types))\n",
    "\n",
    "# ax.set_xlabel(\"Categories\", fontsize=14)\n",
    "ax.set_ylabel(\"Score\", color=\"C6\", fontsize=16)\n",
    "ax2=ax.twinx()\n",
    "ax2.set_ylabel(\"Statistical parity\",color=\"green\",fontsize=16)\n",
    "\n",
    "# twin object for two different y-axis on the sample plot\n",
    "\n",
    "df1.plot(kind='bar', color='C6', ax=ax, ylim=[0.7, 0.95], width=width, position=1, legend=False, fontsize=16)\n",
    "df2.plot(kind='bar', color='green', ax=ax2, width=width, position=0, legend=False, fontsize=16)\n",
    "\n",
    "# ax2.bar(eq_lst, color=\"blue\", marker=\"o\")\n",
    "\n",
    "plt.savefig(\"acc_vs_s.svg\", facecolor='w')\n",
    "plt.show()"
   ]
  },
  {
   "cell_type": "code",
   "execution_count": 45,
   "id": "5a89ad52",
   "metadata": {},
   "outputs": [
    {
     "data": {
      "image/png": "[encoded data removed]",
      "text/plain": [
       "<Figure size 432x288 with 2 Axes>"
      ]
     },
     "metadata": {
      "needs_background": "light"
     },
     "output_type": "display_data"
    }
   ],
   "source": [
    "fig, ax = plt.subplots()\n",
    "# ax.set_title(\"Score vs. Statistical parity for RandomForestClassifier\")\n",
    "# ax.bar(cate_types, stat_lst, color=\"red\", marker=\"o\")\n",
    "# ax.bar(cate_types, stat_lst, color='red')\n",
    "# ax.bar(cate_types, eq_lst, color='blue')\n",
    "width=0.4\n",
    "df1 = pd.DataFrame(score_lst, index=sorted(cate_types))\n",
    "df2 = pd.DataFrame(eq_lst, index=sorted(cate_types))\n",
    "\n",
    "# ax.set_xlabel(\"Categories\", fontsize=14)\n",
    "ax.set_ylabel(\"Score\", color=\"C6\", fontsize=16)\n",
    "ax2=ax.twinx()\n",
    "ax2.set_ylabel(\"Equalized opportunity\",color=\"blue\",fontsize=14)\n",
    "\n",
    "# twin object for two different y-axis on the sample plot\n",
    "\n",
    "df1.plot(kind='bar', color='C6', ax=ax, ylim=[0.7, 0.95], width=width, position=1, legend=False, fontsize=16)\n",
    "df2.plot(kind='bar', color='blue', ax=ax2, width=width, position=0, legend=False, fontsize=16)\n",
    "\n",
    "# ax2.bar(eq_lst, color=\"blue\", marker=\"o\")\n",
    "\n",
    "# plt.savefig(\"fairness.png\")\n",
    "plt.savefig(\"acc_vs_e.svg\", facecolor='w')\n",
    "plt.show()"
   ]
  },
  {
   "cell_type": "code",
   "execution_count": null,
   "id": "cb9dfd40",
   "metadata": {},
   "outputs": [],
   "source": []
  }
 ],
 "metadata": {
  "kernelspec": {
   "display_name": "Python 3 (ipykernel)",
   "language": "python",
   "name": "python3"
  },
  "language_info": {
   "codemirror_mode": {
    "name": "ipython",
    "version": 3
   },
   "file_extension": ".py",
   "mimetype": "text/x-python",
   "name": "python",
   "nbconvert_exporter": "python",
   "pygments_lexer": "ipython3",
   "version": "3.9.7"
  }
 },
 "nbformat": 4,
 "nbformat_minor": 5
}
