{
  "cells": [
    {
      "cell_type": "code",
      "execution_count": 22,
      "id": "f5aff60b",
      "metadata": {
        "id": "f5aff60b"
      },
      "outputs": [],
      "source": [
        "#read data\n",
        "import pandas as pd\n",
        "x_train2= pd.read_csv('x_train_new.csv')\n",
        "y_train = pd.read_csv('y_train_new.csv',index_col=None)\n",
        "X_test = pd.read_csv('x_test_new.csv')\n",
        "y_test = pd.read_csv('y_test_new.csv',index_col=None)"
      ]
    },
    {
      "cell_type": "code",
      "execution_count": 23,
      "id": "4c58cbfe",
      "metadata": {
        "id": "4c58cbfe"
      },
      "outputs": [],
      "source": [
        "a = x_train2.pop('categories')"
      ]
    },
    {
      "cell_type": "code",
      "execution_count": 24,
      "id": "cd377e56",
      "metadata": {
        "colab": {
          "base_uri": "https://localhost:8080/"
        },
        "id": "cd377e56",
        "outputId": "2f3c93d1-6e2c-4bff-adac-79451a2aaaf0"
      },
      "outputs": [
        {
          "output_type": "execute_result",
          "data": {
            "text/plain": [
              "0            0\n",
              "1            1\n",
              "2            2\n",
              "3            3\n",
              "4            4\n",
              "         ...  \n",
              "70919    70919\n",
              "70920    70920\n",
              "70921    70921\n",
              "70922    70922\n",
              "70923    70923\n",
              "Name: Unnamed: 0, Length: 70924, dtype: int64"
            ]
          },
          "metadata": {},
          "execution_count": 24
        }
      ],
      "source": [
        "x_train2.pop('Unnamed: 0')"
      ]
    },
    {
      "cell_type": "code",
      "execution_count": 25,
      "id": "cf747503",
      "metadata": {
        "id": "cf747503"
      },
      "outputs": [],
      "source": [
        "b = X_test.pop('categories')"
      ]
    },
    {
      "cell_type": "code",
      "execution_count": 26,
      "id": "e8a8d81f",
      "metadata": {
        "colab": {
          "base_uri": "https://localhost:8080/"
        },
        "id": "e8a8d81f",
        "outputId": "c01ffc04-c1bc-4d0d-b2de-1642530f6b3b"
      },
      "outputs": [
        {
          "output_type": "execute_result",
          "data": {
            "text/plain": [
              "0       19389\n",
              "1        2075\n",
              "2        8397\n",
              "3       17924\n",
              "4       19919\n",
              "        ...  \n",
              "6329    10283\n",
              "6330     2070\n",
              "6331     3283\n",
              "6332     7926\n",
              "6333    17082\n",
              "Name: Unnamed: 0, Length: 6334, dtype: int64"
            ]
          },
          "metadata": {},
          "execution_count": 26
        }
      ],
      "source": [
        "X_test.pop('Unnamed: 0')"
      ]
    },
    {
      "cell_type": "code",
      "execution_count": 27,
      "id": "5f46556d",
      "metadata": {
        "id": "5f46556d"
      },
      "outputs": [],
      "source": [
        "y_train2 = y_train['stars']"
      ]
    },
    {
      "cell_type": "code",
      "source": [
        "y_train2"
      ],
      "metadata": {
        "colab": {
          "base_uri": "https://localhost:8080/"
        },
        "id": "ZxJYyKbrwjEw",
        "outputId": "e85120e2-d222-4a3a-d6b0-16046a29b7f7"
      },
      "id": "ZxJYyKbrwjEw",
      "execution_count": 28,
      "outputs": [
        {
          "output_type": "execute_result",
          "data": {
            "text/plain": [
              "0        0\n",
              "1        1\n",
              "2        1\n",
              "3        1\n",
              "4        1\n",
              "        ..\n",
              "70919    1\n",
              "70920    1\n",
              "70921    1\n",
              "70922    1\n",
              "70923    1\n",
              "Name: stars, Length: 70924, dtype: int64"
            ]
          },
          "metadata": {},
          "execution_count": 28
        }
      ]
    },
    {
      "cell_type": "code",
      "execution_count": 29,
      "id": "92ef4234",
      "metadata": {
        "id": "92ef4234"
      },
      "outputs": [],
      "source": [
        "y_test = y_test['0']"
      ]
    },
    {
      "cell_type": "code",
      "execution_count": 30,
      "id": "73ecde7b",
      "metadata": {
        "id": "73ecde7b"
      },
      "outputs": [],
      "source": [
        "from sklearn.linear_model import LogisticRegression\n",
        "from sklearn.model_selection import GridSearchCV\n",
        "from sklearn.metrics import accuracy_score"
      ]
    },
    {
      "cell_type": "code",
      "execution_count": null,
      "id": "16d08bd4",
      "metadata": {
        "id": "16d08bd4"
      },
      "outputs": [],
      "source": [
        "param = {\n",
        "    'C': [0.001, 0.01, 0.1, 1, 10, 100, 1000],\n",
        "    #'max_iter': [10000],\n",
        "    #'solver': ['newton-cg', 'lbfgs', 'liblinear', 'sag', 'saga']\n",
        "}"
      ]
    },
    {
      "cell_type": "markdown",
      "source": [
        "Logistic Regression"
      ],
      "metadata": {
        "id": "JKEYQnzk9IE7"
      },
      "id": "JKEYQnzk9IE7"
    },
    {
      "cell_type": "code",
      "execution_count": null,
      "id": "7380c5c3",
      "metadata": {
        "id": "7380c5c3"
      },
      "outputs": [],
      "source": [
        "model = LogisticRegression(max_iter=10000)"
      ]
    },
    {
      "cell_type": "code",
      "execution_count": null,
      "id": "f0939479",
      "metadata": {
        "id": "f0939479"
      },
      "outputs": [],
      "source": [
        "model_cv = GridSearchCV(model, param_grid=param, refit = True, cv=5)"
      ]
    },
    {
      "cell_type": "code",
      "source": [
        "model_cv.fit(x_train2,y_train2)"
      ],
      "metadata": {
        "id": "m9pYUE3u71D3"
      },
      "id": "m9pYUE3u71D3",
      "execution_count": null,
      "outputs": []
    },
    {
      "cell_type": "code",
      "source": [
        "model_cv.best_params_"
      ],
      "metadata": {
        "id": "zb004Gxl73IX"
      },
      "id": "zb004Gxl73IX",
      "execution_count": null,
      "outputs": []
    },
    {
      "cell_type": "code",
      "execution_count": null,
      "id": "099f19f5",
      "metadata": {
        "id": "099f19f5",
        "outputId": "27d47a57-646e-4074-bf07-11e9fd450272"
      },
      "outputs": [
        {
          "data": {
            "text/plain": [
              "0.8618801576779009"
            ]
          },
          "execution_count": 91,
          "metadata": {},
          "output_type": "execute_result"
        }
      ],
      "source": [
        "model_cv.best_score_"
      ]
    },
    {
      "cell_type": "code",
      "execution_count": 31,
      "id": "ac397fbe",
      "metadata": {
        "id": "ac397fbe"
      },
      "outputs": [],
      "source": [
        "model_new = LogisticRegression(C=1,max_iter = 10000)"
      ]
    },
    {
      "cell_type": "code",
      "source": [
        "#other parameter\n",
        "model_new2 = LogisticRegression(C=10,max_iter = 10000)"
      ],
      "metadata": {
        "id": "0xxRAHM0-R-i"
      },
      "id": "0xxRAHM0-R-i",
      "execution_count": null,
      "outputs": []
    },
    {
      "cell_type": "code",
      "execution_count": null,
      "id": "07654087",
      "metadata": {
        "id": "07654087",
        "outputId": "7aafc1fa-c360-47bc-b5c2-556bda19dc15"
      },
      "outputs": [
        {
          "data": {
            "text/plain": [
              "LogisticRegression(C=1, max_iter=10000)"
            ]
          },
          "execution_count": 94,
          "metadata": {},
          "output_type": "execute_result"
        }
      ],
      "source": [
        "model_new.fit(x_train2,y_train2)"
      ]
    },
    {
      "cell_type": "code",
      "source": [
        "#model 2\n",
        "model_new2.fit(x_train2,y_train2)"
      ],
      "metadata": {
        "colab": {
          "base_uri": "https://localhost:8080/"
        },
        "id": "e-iq_XhU-X07",
        "outputId": "5220adf9-3ee6-440f-e359-6e209bac9122"
      },
      "id": "e-iq_XhU-X07",
      "execution_count": null,
      "outputs": [
        {
          "output_type": "execute_result",
          "data": {
            "text/plain": [
              "LogisticRegression(C=10, max_iter=10000)"
            ]
          },
          "metadata": {},
          "execution_count": 12
        }
      ]
    },
    {
      "cell_type": "code",
      "execution_count": null,
      "id": "89c00cb3",
      "metadata": {
        "id": "89c00cb3"
      },
      "outputs": [],
      "source": [
        "preds = model_new.predict(X_test)\n",
        "\n",
        "acc1 = accuracy_score(y_test, preds)\n",
        "preds_train = model_new.predict(x_train2)\n",
        "acc2 = accuracy_score(y_train2, preds_train)"
      ]
    },
    {
      "cell_type": "code",
      "source": [
        "#c=10\n",
        "preds = model_new2.predict(X_test)\n",
        "\n",
        "acc1 = accuracy_score(y_test, preds)\n",
        "preds_train = model_new2.predict(x_train2)\n",
        "acc2 = accuracy_score(y_train2, preds_train)"
      ],
      "metadata": {
        "id": "Q99zXNy5_Ueg"
      },
      "id": "Q99zXNy5_Ueg",
      "execution_count": null,
      "outputs": []
    },
    {
      "cell_type": "code",
      "execution_count": null,
      "id": "6ca66702",
      "metadata": {
        "id": "6ca66702"
      },
      "outputs": [],
      "source": [
        "f1 = pd.concat([x_train2, a],axis = 1)"
      ]
    },
    {
      "cell_type": "code",
      "execution_count": null,
      "id": "1728c517",
      "metadata": {
        "id": "1728c517"
      },
      "outputs": [],
      "source": [
        "f1['preds'] = preds_train"
      ]
    },
    {
      "cell_type": "code",
      "execution_count": null,
      "id": "63712cd7",
      "metadata": {
        "id": "63712cd7"
      },
      "outputs": [],
      "source": [
        "f1['stars'] = y_train2"
      ]
    },
    {
      "cell_type": "code",
      "execution_count": null,
      "id": "f04f14c6",
      "metadata": {
        "id": "f04f14c6"
      },
      "outputs": [],
      "source": [
        "f=pd.concat([X_test, b],axis = 1)"
      ]
    },
    {
      "cell_type": "code",
      "execution_count": null,
      "id": "e33af985",
      "metadata": {
        "id": "e33af985"
      },
      "outputs": [],
      "source": [
        "f['preds'] = preds"
      ]
    },
    {
      "cell_type": "code",
      "execution_count": null,
      "id": "e4ee3a35",
      "metadata": {
        "id": "e4ee3a35"
      },
      "outputs": [],
      "source": [
        "f['stars'] = y_test"
      ]
    },
    {
      "cell_type": "code",
      "execution_count": null,
      "id": "8d85775e",
      "metadata": {
        "id": "8d85775e"
      },
      "outputs": [],
      "source": [
        "f = f.reset_index()"
      ]
    },
    {
      "cell_type": "code",
      "execution_count": null,
      "id": "948e85c2",
      "metadata": {
        "id": "948e85c2"
      },
      "outputs": [],
      "source": [
        "f1 = f1.reset_index()"
      ]
    },
    {
      "cell_type": "code",
      "execution_count": null,
      "id": "5840de70",
      "metadata": {
        "id": "5840de70"
      },
      "outputs": [],
      "source": [
        "ls = [\n",
        "'American',      \n",
        "'Canadian',      \n",
        "'Chinese',       \n",
        "'French',        \n",
        "'Greek',         \n",
        "'Indian',        \n",
        "'Italian',       \n",
        "'Japanese',     \n",
        "'Korean',        \n",
        "'Mexican',       \n",
        "'Pakistani',     \n",
        "'Spanish',       \n",
        "'Thai',          \n",
        "'Vietnamese']\n",
        "dic = {}\n",
        "for i in ls:\n",
        "    no = 0\n",
        "    de = 0\n",
        "    for j in range(len(f['categories'])):\n",
        "        if f['categories'][j] == i:\n",
        "            de+=1\n",
        "            if f['preds'][j]==f['stars'][j]:\n",
        "                no+=1\n",
        "            \n",
        "    dic[i] = no/de"
      ]
    },
    {
      "cell_type": "code",
      "source": [
        "#c=10 test\n",
        "dic"
      ],
      "metadata": {
        "colab": {
          "base_uri": "https://localhost:8080/"
        },
        "id": "8rPM4xtJAZiD",
        "outputId": "08698023-ae19-4bc7-df8c-5ba96cb41d76"
      },
      "id": "8rPM4xtJAZiD",
      "execution_count": null,
      "outputs": [
        {
          "output_type": "execute_result",
          "data": {
            "text/plain": [
              "{'American': 0.7949810606060606,\n",
              " 'Canadian': 0.8350515463917526,\n",
              " 'Chinese': 0.8126550868486352,\n",
              " 'French': 0.7641509433962265,\n",
              " 'Greek': 0.6906474820143885,\n",
              " 'Indian': 0.7905759162303665,\n",
              " 'Italian': 0.7704918032786885,\n",
              " 'Japanese': 0.8144876325088339,\n",
              " 'Korean': 0.8435374149659864,\n",
              " 'Mexican': 0.7028301886792453,\n",
              " 'Pakistani': 0.78125,\n",
              " 'Spanish': 0.6792452830188679,\n",
              " 'Thai': 0.7865612648221344,\n",
              " 'Vietnamese': 0.75}"
            ]
          },
          "metadata": {},
          "execution_count": 23
        }
      ]
    },
    {
      "cell_type": "code",
      "execution_count": null,
      "id": "b813f594",
      "metadata": {
        "id": "b813f594",
        "outputId": "fe41afea-ae59-4fc0-b865-db2ba59862de"
      },
      "outputs": [
        {
          "data": {
            "text/plain": [
              "{'American': 0.7945075757575758,\n",
              " 'Canadian': 0.8350515463917526,\n",
              " 'Chinese': 0.8138957816377171,\n",
              " 'French': 0.7735849056603774,\n",
              " 'Greek': 0.6906474820143885,\n",
              " 'Indian': 0.7905759162303665,\n",
              " 'Italian': 0.7704918032786885,\n",
              " 'Japanese': 0.8162544169611308,\n",
              " 'Korean': 0.8435374149659864,\n",
              " 'Mexican': 0.7016509433962265,\n",
              " 'Pakistani': 0.78125,\n",
              " 'Spanish': 0.6792452830188679,\n",
              " 'Thai': 0.7865612648221344,\n",
              " 'Vietnamese': 0.7454545454545455}"
            ]
          },
          "execution_count": 105,
          "metadata": {},
          "output_type": "execute_result"
        }
      ],
      "source": [
        "#c = 1 test\n",
        "dic"
      ]
    },
    {
      "cell_type": "code",
      "execution_count": null,
      "id": "199efc2a",
      "metadata": {
        "id": "199efc2a"
      },
      "outputs": [],
      "source": [
        "\n",
        "dic2 = {}\n",
        "for i in ls:\n",
        "    no = 0\n",
        "    de = 0\n",
        "    for j in range(len(f1['categories'])):\n",
        "        if f1['categories'][j] == i:\n",
        "            de+=1\n",
        "            if f1['preds'][j]==f1['stars'][j]:\n",
        "                no+=1\n",
        "            \n",
        "    dic2[i] = no/de"
      ]
    },
    {
      "cell_type": "code",
      "execution_count": null,
      "id": "88d49d51",
      "metadata": {
        "id": "88d49d51",
        "outputId": "f51937da-3453-40d0-91c9-33bb63fb9f25"
      },
      "outputs": [
        {
          "data": {
            "text/plain": [
              "{'American': 0.7949072246348203,\n",
              " 'Canadian': 0.8677457560205291,\n",
              " 'Chinese': 0.8138570864587445,\n",
              " 'French': 0.9234109751283064,\n",
              " 'Greek': 0.8756415317804974,\n",
              " 'Indian': 0.8969601263324122,\n",
              " 'Italian': 0.8495854717726017,\n",
              " 'Japanese': 0.8712988551125148,\n",
              " 'Korean': 0.9097907619423609,\n",
              " 'Mexican': 0.7737860244769048,\n",
              " 'Pakistani': 0.9040663245163837,\n",
              " 'Spanish': 0.8482037110146072,\n",
              " 'Thai': 0.8985392814844059,\n",
              " 'Vietnamese': 0.9030793525463877}"
            ]
          },
          "execution_count": 107,
          "metadata": {},
          "output_type": "execute_result"
        }
      ],
      "source": [
        "#c = 1 train\n",
        "dic2"
      ]
    },
    {
      "cell_type": "markdown",
      "source": [
        "Neural Network"
      ],
      "metadata": {
        "id": "H97QuYc-9BS2"
      },
      "id": "H97QuYc-9BS2"
    },
    {
      "cell_type": "code",
      "execution_count": 10,
      "id": "510ccda0",
      "metadata": {
        "id": "510ccda0"
      },
      "outputs": [],
      "source": [
        "import tensorflow as tf\n",
        "from tensorflow.keras import Sequential"
      ]
    },
    {
      "cell_type": "code",
      "execution_count": 11,
      "id": "89e3a617",
      "metadata": {
        "id": "89e3a617"
      },
      "outputs": [],
      "source": [
        "model2 = Sequential()"
      ]
    },
    {
      "cell_type": "code",
      "execution_count": 12,
      "id": "03f926eb",
      "metadata": {
        "id": "03f926eb"
      },
      "outputs": [],
      "source": [
        "model2.add(tf.keras.layers.Dense(8))\n",
        "model2.add(tf.keras.layers.Dense(4))\n",
        "model2.add(tf.keras.layers.Dense(14,activation=\"softmax\")\n",
        ")"
      ]
    },
    {
      "cell_type": "code",
      "source": [
        "model2.compile(loss=tf.keras.losses.SparseCategoricalCrossentropy(),\n",
        "optimizer=tf.keras.optimizers.Adam())"
      ],
      "metadata": {
        "id": "TJBvcwd8v5h3"
      },
      "id": "TJBvcwd8v5h3",
      "execution_count": 13,
      "outputs": []
    },
    {
      "cell_type": "code",
      "source": [
        "model2.fit(x_train2, y_train2)"
      ],
      "metadata": {
        "colab": {
          "base_uri": "https://localhost:8080/"
        },
        "id": "0IbvlBL4vgLs",
        "outputId": "69652b90-6ec1-415a-f869-1d30ed4387de"
      },
      "id": "0IbvlBL4vgLs",
      "execution_count": 14,
      "outputs": [
        {
          "output_type": "stream",
          "name": "stdout",
          "text": [
            "2217/2217 [==============================] - 5s 2ms/step - loss: 0.6285\n"
          ]
        },
        {
          "output_type": "execute_result",
          "data": {
            "text/plain": [
              "<keras.callbacks.History at 0x7f307ad28cd0>"
            ]
          },
          "metadata": {},
          "execution_count": 14
        }
      ]
    },
    {
      "cell_type": "code",
      "source": [
        "preds2 = model2.predict(X_test)"
      ],
      "metadata": {
        "id": "CA9b5typvuvs"
      },
      "id": "CA9b5typvuvs",
      "execution_count": 15,
      "outputs": []
    },
    {
      "cell_type": "code",
      "source": [
        "import numpy as np\n",
        "preds2 = np.argmax(preds2, axis=1)"
      ],
      "metadata": {
        "id": "HUSALDg827wF"
      },
      "id": "HUSALDg827wF",
      "execution_count": 16,
      "outputs": []
    },
    {
      "cell_type": "code",
      "source": [
        "preds_train2 = model2.predict(x_train2)"
      ],
      "metadata": {
        "id": "mfxLqpRkzBNk"
      },
      "id": "mfxLqpRkzBNk",
      "execution_count": 17,
      "outputs": []
    },
    {
      "cell_type": "code",
      "source": [
        "preds_train2 = np.argmax(preds_train2, axis=1)"
      ],
      "metadata": {
        "id": "kozSVgAk3Fb_"
      },
      "id": "kozSVgAk3Fb_",
      "execution_count": 18,
      "outputs": []
    },
    {
      "cell_type": "code",
      "source": [
        "acc3 = accuracy_score(y_test, preds2)\n",
        "\n",
        "acc4 = accuracy_score(y_train2, preds_train2)"
      ],
      "metadata": {
        "id": "bz55OaOezdBi"
      },
      "id": "bz55OaOezdBi",
      "execution_count": 19,
      "outputs": []
    },
    {
      "cell_type": "code",
      "source": [
        "acc3"
      ],
      "metadata": {
        "colab": {
          "base_uri": "https://localhost:8080/"
        },
        "id": "Sw8mIx_dB0XC",
        "outputId": "4f2a65a5-5b6d-4004-8e15-cf9deedd035e"
      },
      "id": "Sw8mIx_dB0XC",
      "execution_count": 20,
      "outputs": [
        {
          "output_type": "execute_result",
          "data": {
            "text/plain": [
              "0.755131038838017"
            ]
          },
          "metadata": {},
          "execution_count": 20
        }
      ]
    },
    {
      "cell_type": "code",
      "source": [
        "acc4"
      ],
      "metadata": {
        "colab": {
          "base_uri": "https://localhost:8080/"
        },
        "id": "pTpA1cazB1fr",
        "outputId": "f2a8aa8c-12d1-4e6b-d75e-064036307eea"
      },
      "id": "pTpA1cazB1fr",
      "execution_count": 21,
      "outputs": [
        {
          "output_type": "execute_result",
          "data": {
            "text/plain": [
              "0.8253059613106988"
            ]
          },
          "metadata": {},
          "execution_count": 21
        }
      ]
    },
    {
      "cell_type": "code",
      "source": [
        "f1 = pd.concat([x_train2, a],axis = 1)"
      ],
      "metadata": {
        "id": "1ph0xgFt3JG9"
      },
      "id": "1ph0xgFt3JG9",
      "execution_count": null,
      "outputs": []
    },
    {
      "cell_type": "code",
      "source": [
        "f1['preds'] = preds_train2"
      ],
      "metadata": {
        "id": "UcHku3pS3N1c"
      },
      "id": "UcHku3pS3N1c",
      "execution_count": null,
      "outputs": []
    },
    {
      "cell_type": "code",
      "source": [
        "f1['stars'] = y_train2"
      ],
      "metadata": {
        "id": "SB1VOtz03P2Y"
      },
      "id": "SB1VOtz03P2Y",
      "execution_count": null,
      "outputs": []
    },
    {
      "cell_type": "code",
      "source": [
        "f=pd.concat([X_test, b],axis = 1)"
      ],
      "metadata": {
        "id": "DILi0JTy3UHx"
      },
      "id": "DILi0JTy3UHx",
      "execution_count": null,
      "outputs": []
    },
    {
      "cell_type": "code",
      "source": [
        "f['preds'] = preds2"
      ],
      "metadata": {
        "id": "rsr-9cqi3WBM"
      },
      "id": "rsr-9cqi3WBM",
      "execution_count": null,
      "outputs": []
    },
    {
      "cell_type": "code",
      "source": [
        "f['stars'] = y_test"
      ],
      "metadata": {
        "id": "vNhyPI193Xyk"
      },
      "id": "vNhyPI193Xyk",
      "execution_count": null,
      "outputs": []
    },
    {
      "cell_type": "code",
      "source": [
        "f = f.reset_index()"
      ],
      "metadata": {
        "id": "fei02d3e3aos"
      },
      "id": "fei02d3e3aos",
      "execution_count": null,
      "outputs": []
    },
    {
      "cell_type": "code",
      "source": [
        "f1 = f1.reset_index()"
      ],
      "metadata": {
        "id": "SC1VTsVB3cQX"
      },
      "id": "SC1VTsVB3cQX",
      "execution_count": null,
      "outputs": []
    },
    {
      "cell_type": "code",
      "source": [
        "ls = [\n",
        "'American',      \n",
        "'Canadian',      \n",
        "'Chinese',       \n",
        "'French',        \n",
        "'Greek',         \n",
        "'Indian',        \n",
        "'Italian',       \n",
        "'Japanese',     \n",
        "'Korean',        \n",
        "'Mexican',       \n",
        "'Pakistani',     \n",
        "'Spanish',       \n",
        "'Thai',          \n",
        "'Vietnamese']\n",
        "dic = {}\n",
        "for i in ls:\n",
        "    no = 0\n",
        "    de = 0\n",
        "    for j in range(len(f['categories'])):\n",
        "        if f['categories'][j] == i:\n",
        "            de+=1\n",
        "            if f['preds'][j]==f['stars'][j]:\n",
        "                no+=1\n",
        "            \n",
        "    dic[i] = no/de"
      ],
      "metadata": {
        "id": "25lL-F6d3eBh"
      },
      "id": "25lL-F6d3eBh",
      "execution_count": null,
      "outputs": []
    },
    {
      "cell_type": "code",
      "source": [
        "#test\n",
        "dic"
      ],
      "metadata": {
        "colab": {
          "base_uri": "https://localhost:8080/"
        },
        "id": "rtj7stu03hO6",
        "outputId": "74575b77-3c1d-465f-b0ac-d2e51f0eeaf9"
      },
      "id": "rtj7stu03hO6",
      "execution_count": null,
      "outputs": [
        {
          "output_type": "execute_result",
          "data": {
            "text/plain": [
              "{'American': 0.7698863636363636,\n",
              " 'Canadian': 0.865979381443299,\n",
              " 'Chinese': 0.7630272952853598,\n",
              " 'French': 0.7641509433962265,\n",
              " 'Greek': 0.7410071942446043,\n",
              " 'Indian': 0.7905759162303665,\n",
              " 'Italian': 0.7745901639344263,\n",
              " 'Japanese': 0.8144876325088339,\n",
              " 'Korean': 0.8231292517006803,\n",
              " 'Mexican': 0.6639150943396226,\n",
              " 'Pakistani': 0.828125,\n",
              " 'Spanish': 0.6792452830188679,\n",
              " 'Thai': 0.758893280632411,\n",
              " 'Vietnamese': 0.7545454545454545}"
            ]
          },
          "metadata": {},
          "execution_count": 104
        }
      ]
    },
    {
      "cell_type": "code",
      "source": [
        "#train\n",
        "dic2 = {}\n",
        "for i in ls:\n",
        "    no = 0\n",
        "    de = 0\n",
        "    for j in range(len(f1['categories'])):\n",
        "        if f1['categories'][j] == i:\n",
        "            de+=1\n",
        "            if f1['preds'][j]==f1['stars'][j]:\n",
        "                no+=1\n",
        "            \n",
        "    dic2[i] = no/de"
      ],
      "metadata": {
        "id": "xLqQJcZr3jA2"
      },
      "id": "xLqQJcZr3jA2",
      "execution_count": null,
      "outputs": []
    },
    {
      "cell_type": "code",
      "source": [
        "dic2"
      ],
      "metadata": {
        "colab": {
          "base_uri": "https://localhost:8080/"
        },
        "id": "BaOpLzj73nP2",
        "outputId": "496e8adc-09f8-4592-ebff-bdf4bc84702b"
      },
      "id": "BaOpLzj73nP2",
      "execution_count": null,
      "outputs": [
        {
          "output_type": "execute_result",
          "data": {
            "text/plain": [
              "{'American': 0.7678641926569285,\n",
              " 'Canadian': 0.8387287801026451,\n",
              " 'Chinese': 0.749506514015002,\n",
              " 'French': 0.9374259771022503,\n",
              " 'Greek': 0.87998420844848,\n",
              " 'Indian': 0.8997236478484011,\n",
              " 'Italian': 0.8231346229767075,\n",
              " 'Japanese': 0.8620213185945519,\n",
              " 'Korean': 0.9109751283063561,\n",
              " 'Mexican': 0.7086458744571654,\n",
              " 'Pakistani': 0.8951835767864192,\n",
              " 'Spanish': 0.8570864587445717,\n",
              " 'Thai': 0.8969601263324122,\n",
              " 'Vietnamese': 0.8943939992104224}"
            ]
          },
          "metadata": {},
          "execution_count": 106
        }
      ]
    }
  ],
  "metadata": {
    "kernelspec": {
      "display_name": "Python 3 (ipykernel)",
      "language": "python",
      "name": "python3"
    },
    "language_info": {
      "codemirror_mode": {
        "name": "ipython",
        "version": 3
      },
      "file_extension": ".py",
      "mimetype": "text/x-python",
      "name": "python",
      "nbconvert_exporter": "python",
      "pygments_lexer": "ipython3",
      "version": "3.8.8"
    },
    "colab": {
      "name": "Model-LR&NN.ipynb",
      "provenance": []
    }
  },
  "nbformat": 4,
  "nbformat_minor": 5
}